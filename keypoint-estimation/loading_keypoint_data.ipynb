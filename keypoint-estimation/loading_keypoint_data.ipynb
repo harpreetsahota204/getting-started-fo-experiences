{
 "cells": [
  {
   "cell_type": "markdown",
   "metadata": {},
   "source": [
    "# Getting Started with Keypoint Estimation: Loading Keypoint Data\n",
    "\n",
    "\n",
    "\n",
    "### Loading Keypoint Data in COCO Format\n",
    "\n",
    "Start by downloading the dataset from [this website](https://zenodo.org/records/10057090). Alternatively, you can use your favorite method for programmatically downloading the dataset, for example by running the following command in your terminal (Note: This is a 6GB download):\n",
    "\n",
    "```bash\n",
    "wget https://zenodo.org/records/10057090/files/tampar.zip?download=1\n",
    "```\n",
    "\n",
    "This dataset is in [COCO format](https://beta-docs.voxel51.com/fiftyone_concepts/dataset_creation/datasets/#cocodetectiondataset) and we can [automatically load it FiftyOne format](https://beta-docs.voxel51.com/fiftyone_concepts/dataset_creation/#common-formats)."
   ]
  },
  {
   "cell_type": "code",
   "execution_count": null,
   "metadata": {},
   "outputs": [],
   "source": [
    "!pip install pycocotools"
   ]
  },
  {
   "cell_type": "markdown",
   "metadata": {},
   "source": [
    "This code demonstrates how to load and prepare the TAMPAR dataset using FiftyOne's data management capabilities. Here's what's happening:\n",
    "\n",
    "\n",
    "- **[`fo.Dataset.from_dir()`](https://beta-docs.voxel51.com/api/fiftyone.core.dataset.Dataset.html#from_dir)**: This method imports the TAMPAR dataset in COCO format directly from disk. It accepts several important parameters:\n",
    "  - `dataset_type=fo.types.COCODetectionDataset`: Specifies we're loading data in [COCO object detection format](https://beta-docs.voxel51.com/api/fiftyone.types.dataset_types.COCODetectionDataset.html)\n",
    "  - `data_path` and `labels_path`: Point to the directories containing images and annotation JSON file\n",
    "  - `include_id=True`: Preserves the original COCO IDs\n",
    "  - `name=\"TAMPAR\"`: Gives our dataset a [descriptive name](https://beta-docs.voxel51.com/api/fiftyone.core.dataset.Dataset.html#name) in FiftyOne\n",
    "  - `persistent=True`: [Persists](https://beta-docs.voxel51.com/fiftyone_concepts/using_datasets/#dataset-persistence) the dataset to disk for future sessions\n",
    "\n",
    "- **[`compute_metadata()`](https://beta-docs.voxel51.com/api/fiftyone.core.collections.SampleCollection.html#compute_metadata)**: After loading, this method analyzes all images to extract and store metadata like dimensions, file sizes, and other properties that enhance the dataset's functionality within FiftyOne.\n"
   ]
  },
  {
   "cell_type": "code",
   "execution_count": 59,
   "metadata": {},
   "outputs": [
    {
     "name": "stdout",
     "output_type": "stream",
     "text": [
      " 100% |█████████████████| 485/485 [26.2s elapsed, 0s remaining, 20.0 samples/s]      \n"
     ]
    }
   ],
   "source": [
    "import fiftyone as fo\n",
    "\n",
    "tampar_dataset = fo.Dataset.from_dir(\n",
    "    dataset_type=fo.types.COCODetectionDataset,\n",
    "    data_path=\"tampar\",\n",
    "    labels_path=\"tampar/tampar_test.json\",\n",
    "    include_id=True,\n",
    "    name=\"TAMPAR\",\n",
    "    persistent=True\n",
    ")\n",
    "\n",
    "tampar_dataset.compute_metadata()"
   ]
  },
  {
   "cell_type": "markdown",
   "metadata": {},
   "source": [
    "The keypoints are automatically parsed as [Keypoint labels](https://beta-docs.voxel51.com/api/fiftyone.core.labels.Keypoint.html) in the Dataset. \n",
    "\n",
    "Keypoints in FiftyOne represents a collection of coordinate points that mark specific locations in an image. These can be used for localizing important features like facial landmarks, human pose joints, or in our case, the corners of parcel boxes. Each [Keypoint label](https://beta-docs.voxel51.com/api/fiftyone.core.labels.Keypoint.html) contains:\n",
    "\n",
    "* A set of points as (x,y) coordinates normalized to [0,1] range\n",
    "* Optional confidence scores for each point\n",
    "* A semantic label describing what these points represent\n",
    "* Optional attributes for storing additional metadata\n",
    "\n",
    "This dataset has 8 keypoints (24 values total), all with `visibility=2` (which means \"visible\")"
   ]
  },
  {
   "cell_type": "code",
   "execution_count": 62,
   "metadata": {},
   "outputs": [
    {
     "data": {
      "text/plain": [
       "<Keypoints: {\n",
       "    'keypoints': [\n",
       "        <Keypoint: {\n",
       "            'id': '67d30c7fba3cc01259e1f17c',\n",
       "            'attributes': {},\n",
       "            'tags': [],\n",
       "            'label': 'normal box',\n",
       "            'points': [\n",
       "                [0.5589583333333333, 0.6946957671957673],\n",
       "                [0.14292162698412697, 0.4266931216931217],\n",
       "                [0.09013640873015873, 0.21361772486772487],\n",
       "                [0.5546006944444445, 0.9186904761904762],\n",
       "                [0.898640873015873, 0.31390873015873016],\n",
       "                [0.4302876984126984, 0.27409391534391536],\n",
       "                [0.43548611111111113, 0.06962632275132276],\n",
       "                [0.8419171626984128, 0.5316666666666666],\n",
       "            ],\n",
       "            'confidence': None,\n",
       "            'index': None,\n",
       "            'visible': [2, 2, 2, 2, 2, 2, 2, 2],\n",
       "            'supercategory': 'box',\n",
       "            'iscrowd': 0,\n",
       "            'num_keypoints': 8,\n",
       "            'occluded': False,\n",
       "        }>,\n",
       "    ],\n",
       "}>"
      ]
     },
     "execution_count": 62,
     "metadata": {},
     "output_type": "execute_result"
    }
   ],
   "source": [
    "tampar_dataset.first()['keypoints']"
   ]
  },
  {
   "cell_type": "markdown",
   "metadata": {},
   "source": [
    "Now that the Dataset is loaded, we can [launch the app](https://beta-docs.voxel51.com/getting_started/basic/application_tour/) and inspect it.\n",
    "\n",
    "```python\n",
    "fo.launch_app(tampar_dataset)\n",
    "```\n",
    "\n",
    "<img src=\"assets/tampar.gif\">"
   ]
  },
  {
   "cell_type": "markdown",
   "metadata": {},
   "source": [
    "# Connecting Keypoint Edges in FiftyOne\n",
    "\n",
    "When combined with a [`KeypointSkeleton`](https://beta-docs.voxel51.com/api/fiftyone.core.odm.dataset.KeypointSkeleton.html), these individual points form a connected structure (like our box wireframe) that visually represents the spatial relationships between points.\n",
    "\n",
    "In our parcel detection dataset, we use keypoints to mark the 8 corners of each box, allowing us to reconstruct the 3D geometry of parcels from 2D images.\n",
    "\n",
    "## The Skeleton Structure\n",
    "\n",
    "All [Dataset](https://beta-docs.voxel51.com/api/fiftyone.core.dataset.html#fiftyone.core.dataset.Dataset) instances have [`skeletons`](https://beta-docs.voxel51.com/api/fiftyone.core.dataset.Dataset.html#skeletons) and [`default_skeleton`](https://beta-docs.voxel51.com/api/fiftyone.core.dataset.Dataset.html#default_skeleton) properties that you can use to store keypoint skeletons for Keypoint field(s) of a dataset.\n",
    "\n",
    "To visualize these boxes correctly in FiftyOne, we define a skeleton that connects these keypoints with edges. Our [`KeypointSkeleton`](https://beta-docs.voxel51.com/api/fiftyone.core.odm.dataset.KeypointSkeleton.html) defines:\n",
    "\n",
    "1. **Labels**: Semantic names for each keypoint (e.g., \"front_top_right\", \"back_bottom_left\")\n",
    "2. **Edges**: Connections between pairs of keypoints that form the wireframe of the 3D box\n",
    "\n",
    "## Edge Connections\n",
    "\n",
    "The edges are organized to represent the physical structure of the keypoints:\n",
    "\n",
    "- **Front Face**: Connects the four front corners in a clockwise or counter-clockwise order\n",
    "\n",
    "- **Top Face**: Connects the four top corners (front-top-left → back-top-left → back-top-right → front-top-right)\n",
    "\n",
    "- **Right Side**: Connects the front and back edges on the right side of the box\n",
    "\n",
    "- **Additional Edges**: Completes the remaining connections to form a full box\n",
    "\n",
    "## Implementation\n",
    "\n",
    "In FiftyOne, we implement this by creating a [`KeypointSkeleton`](https://beta-docs.voxel51.com/api/fiftyone.core.odm.dataset.KeypointSkeleton.html) object:\n"
   ]
  },
  {
   "cell_type": "code",
   "execution_count": 60,
   "metadata": {},
   "outputs": [],
   "source": [
    "import fiftyone as fo\n",
    "\n",
    "labels = [\n",
    "    \"front_upper_right\",    # 0\n",
    "    \"front_lower_left\",     # 1\n",
    "    \"front_upper_left\",     # 2\n",
    "    \"front_lower_right\",    # 3\n",
    "    \"back_upper_right\",     # 4\n",
    "    \"back_upper_left\",      # 5 \n",
    "    \"back_upper_left\",      # 6 \n",
    "    \"back_lower_right\"      # 7\n",
    "]\n",
    "\n",
    "# Complete set of edges to create a full 3D box\n",
    "edges = [\n",
    "    # Front face - complete square\n",
    "    [2, 0],  # front upper-left to front upper-right\n",
    "    [0, 3],  # front upper-right to front lower-right\n",
    "    [3, 1],  # front lower-right to front lower-left\n",
    "    [1, 2],  # front lower-left to front upper-left\n",
    "    \n",
    "    # Top face\n",
    "    [2, 6],  # front upper-left to back upper-left\n",
    "    [6, 4],  # back upper-left to back upper-right\n",
    "    [4, 0],  # back upper-right to front upper-right\n",
    "    \n",
    "    # Right side face\n",
    "    [0, 4],  # front upper-right to back upper-right\n",
    "    [4, 7],  # back upper-right to back lower-right\n",
    "    [7, 3],  # back lower-right to front lower-right\n",
    "    \n",
    "    # Back face \n",
    "    [6, 4],  # back upper-left to back upper-right\n",
    "    [4, 7],  # back upper-right to back lower-right\n",
    "    \n",
    "    # Left side face \n",
    "    [2, 6],  # front upper-left to back upper-left\n",
    "    \n",
    "    # Needed for complete box\n",
    "    [1, 5],  # front lower-left to back lower-left\n",
    "    [5, 6],  # back lower-left to back upper-left\n",
    "    [5, 7]   # back lower-left to back lower-right\n",
    "]\n",
    "\n",
    "\n",
    "tampar_dataset.default_skeleton = fo.KeypointSkeleton(\n",
    "    labels=labels,\n",
    "    edges=edges\n",
    ")\n",
    "\n",
    "tampar_dataset.save()"
   ]
  },
  {
   "cell_type": "markdown",
   "metadata": {},
   "source": [
    "\n",
    "\n",
    "This skeleton definition ensures that when our 3D box keypoints are visualized in FiftyOne, the lines connecting them accurately represent the box's structure, making it easy to interpret the detection results at a glance.\n",
    "\n",
    "\n",
    "```python\n",
    "fo.launch_app(tampar_dataset)\n",
    "```\n",
    "\n",
    "<img src=\"assets/tampar-skeletons.gif\">"
   ]
  },
  {
   "cell_type": "code",
   "execution_count": null,
   "metadata": {},
   "outputs": [],
   "source": []
  },
  {
   "cell_type": "code",
   "execution_count": null,
   "metadata": {},
   "outputs": [],
   "source": []
  },
  {
   "cell_type": "code",
   "execution_count": null,
   "metadata": {},
   "outputs": [],
   "source": []
  },
  {
   "cell_type": "code",
   "execution_count": null,
   "metadata": {},
   "outputs": [],
   "source": []
  },
  {
   "cell_type": "code",
   "execution_count": null,
   "metadata": {},
   "outputs": [],
   "source": []
  },
  {
   "cell_type": "markdown",
   "metadata": {},
   "source": [
    "\n",
    "\n",
    "### Next steps\n",
    "\n",
    "* Checkout these poset estimation datasets on the Hugging Face Hub:\n",
    "  * [DensePose-COCO](https://huggingface.co/datasets/Voxel51/DensePose-COCO)\n",
    "  * [MPII_Human_Pose_Dataset](https://huggingface.co/datasets/Voxel51/MPII_Human_Pose_Dataset)\n",
    "\n",
    "* Learn about working with [Detections](https://beta-docs.voxel51.com/how_do_i/recipes/adding_detections/)\n",
    "\n",
    "* Learn about working with [Segmentations](https://beta-docs.voxel51.com/fiftyone_concepts/using_datasets/#semantic-segmentation)\n",
    "\n",
    "* Join the [Discord community](https://community.voxel51.com/)\n",
    "\n",
    "* Follow us on [LinkedIn](https://www.linkedin.com/company/voxel51/)"
   ]
  }
 ],
 "metadata": {
  "kernelspec": {
   "display_name": "fiftyone",
   "language": "python",
   "name": "python3"
  },
  "language_info": {
   "codemirror_mode": {
    "name": "ipython",
    "version": 3
   },
   "file_extension": ".py",
   "mimetype": "text/x-python",
   "name": "python",
   "nbconvert_exporter": "python",
   "pygments_lexer": "ipython3",
   "version": "3.11.0"
  }
 },
 "nbformat": 4,
 "nbformat_minor": 2
}
