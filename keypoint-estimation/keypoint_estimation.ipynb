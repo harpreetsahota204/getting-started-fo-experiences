{
 "cells": [
  {
   "cell_type": "code",
   "execution_count": null,
   "metadata": {},
   "outputs": [],
   "source": []
  },
  {
   "cell_type": "markdown",
   "metadata": {},
   "source": [
    "# Download Datset\n",
    "\n",
    "Let's start by downloading a dataset from Voxel51's [Hugging Face org](https://huggingface.co/Voxel51). In this tutorial, we'll use the the [Hands Keypoint](https://huggingface.co/datasets/Voxel51/hand-keypoints) dataset:"
   ]
  },
  {
   "cell_type": "code",
   "execution_count": 1,
   "metadata": {},
   "outputs": [
    {
     "name": "stdout",
     "output_type": "stream",
     "text": [
      "Downloading config file fiftyone.yml from voxel51/hand-keypoints\n"
     ]
    },
    {
     "data": {
      "application/vnd.jupyter.widget-view+json": {
       "model_id": "d6ad0626439a422f85bd1747b721e199",
       "version_major": 2,
       "version_minor": 0
      },
      "text/plain": [
       "fiftyone.yml:   0%|          | 0.00/70.0 [00:00<?, ?B/s]"
      ]
     },
     "metadata": {},
     "output_type": "display_data"
    },
    {
     "name": "stdout",
     "output_type": "stream",
     "text": [
      "Loading dataset\n",
      "Importing samples...\n",
      " 100% |█████████████████| 846/846 [20.1ms elapsed, 0s remaining, 42.1K samples/s]      \n",
      "Downloading 846 media files...\n"
     ]
    },
    {
     "name": "stderr",
     "output_type": "stream",
     "text": [
      "100%|██████████| 9/9 [00:53<00:00,  5.89s/it]\n"
     ]
    }
   ],
   "source": [
    "import fiftyone as fo\n",
    "from fiftyone.utils.huggingface import load_from_hub\n",
    "\n",
    "keypoint_dataset = load_from_hub(\"voxel51/hand-keypoints\")"
   ]
  },
  {
   "cell_type": "markdown",
   "metadata": {},
   "source": [
    "## Using Model Zoo\n",
    "\n",
    "The FiftyOne [Model Zoo](https://beta-docs.voxel51.com/models/model_zoo/models/) has several models you can use for common tasks, including one for pose estimation, [**Keypoint R-CNN ResNet50 FPN COCO Torch**](https://beta-docs.voxel51.com/models/model_zoo/models/#keypoint-rcnn-resnet50-fpn-coco-torch).\n",
    "\n",
    "This model is a variant of the R-CNN architecture designed for keypoint detection, utilizing a ResNet50 backbone with Feature Pyramid Network (FPN) enhancements. This model is pre-trained on the COCO dataset and is capable of detecting keypoints for objects, particularly humans, with high accuracy, achieving a keypoint AP of around 61.1% on COCO-val2017.\n",
    "\n",
    "We'll [load the model from the FiftyOne Model Zoo via `load_zoo_model`](https://beta-docs.voxel51.com/api/fiftyone.zoo.models.html#load_zoo_model), and then run inference on our dataset [using the `apply_model` method](https://beta-docs.voxel51.com/api/fiftyone.core.collections.SampleCollection.html#apply_model) of the [Dataset](https://beta-docs.voxel51.com/api/fiftyone.core.dataset.Dataset.html) and store the results in a [Field](https://beta-docs.voxel51.com/getting_started/basic/datasets_samples_fields/) named `rcnn_keypoints`:"
   ]
  },
  {
   "cell_type": "code",
   "execution_count": 2,
   "metadata": {},
   "outputs": [
    {
     "name": "stdout",
     "output_type": "stream",
     "text": [
      " 100% |█████████████████| 846/846 [20.9s elapsed, 0s remaining, 37.6 samples/s]      \n"
     ]
    }
   ],
   "source": [
    "import fiftyone as fo\n",
    "import fiftyone.zoo as foz\n",
    "\n",
    "rcnn_pose_model = foz.load_zoo_model(\"keypoint-rcnn-resnet50-fpn-coco-torch\")\n",
    "\n",
    "keypoint_dataset.apply_model(rcnn_pose_model, label_field=\"rcnn_keypoints\")"
   ]
  },
  {
   "cell_type": "markdown",
   "metadata": {},
   "source": [
    "We can inspect the contents of the [first](https://beta-docs.voxel51.com/tutorials/pandas_comparison/#first-and-last) [Sample](https://beta-docs.voxel51.com/api/fiftyone.core.sample.Sample.html):"
   ]
  },
  {
   "cell_type": "code",
   "execution_count": 3,
   "metadata": {},
   "outputs": [
    {
     "data": {
      "text/plain": [
       "<Keypoints: {\n",
       "    'keypoints': [\n",
       "        <Keypoint: {\n",
       "            'id': '67d886507fe8205cb39fb3d5',\n",
       "            'attributes': {},\n",
       "            'tags': [],\n",
       "            'label': 'person',\n",
       "            'points': [\n",
       "                [0.4506858825683594, 0.16730889214409722],\n",
       "                [0.4701820373535156, 0.1366334561948423],\n",
       "                [0.43118969599405926, 0.13796715912995516],\n",
       "                [0.4919277826944987, 0.16730889214409722],\n",
       "                [0.40719436009724935, 0.165975175080476],\n",
       "                [0.5429178237915039, 0.3540289984809028],\n",
       "                [0.36445271174112953, 0.3513615360966435],\n",
       "                [0.5556653340657552, 0.6127696849681713],\n",
       "                [0.4101937929789225, 0.5860954002097801],\n",
       "                [0.5114240010579427, 0.7581446329752605],\n",
       "                [0.4236911137898763, 0.3433592619719329],\n",
       "                [0.5181727091471354, 0.7514759770146122],\n",
       "                [0.41169347763061526, 0.7568109017831308],\n",
       "                [0.6576454162597656, 0.7741492377387152],\n",
       "                [0.312712828318278, 0.7874863236038773],\n",
       "                [0.47843046188354493, 0.8861812450267651],\n",
       "                [0.5399184544881185, 0.8941835191514756],\n",
       "            ],\n",
       "            'confidence': [\n",
       "                1.0,\n",
       "                1.0,\n",
       "                1.0,\n",
       "                0.9999998807907104,\n",
       "                1.0,\n",
       "                0.9999606609344482,\n",
       "                0.9999843835830688,\n",
       "                0.9999891519546509,\n",
       "                0.9999998807907104,\n",
       "                0.9999996423721313,\n",
       "                1.0,\n",
       "                0.9999794960021973,\n",
       "                0.9999942779541016,\n",
       "                0.9892560243606567,\n",
       "                0.9996325969696045,\n",
       "                0.6467458009719849,\n",
       "                0.999906063079834,\n",
       "            ],\n",
       "            'index': None,\n",
       "        }>,\n",
       "    ],\n",
       "}>"
      ]
     },
     "execution_count": 3,
     "metadata": {},
     "output_type": "execute_result"
    }
   ],
   "source": [
    "keypoint_dataset.first()['rcnn_keypoints_keypoints']"
   ]
  },
  {
   "cell_type": "markdown",
   "metadata": {},
   "source": [
    "# Using Ultralytics\n",
    "\n",
    "FiftyOne has an [integration with Ultralytics](https://beta-docs.voxel51.com/integrations/ultralytics/) which makes it easy for you to use one of their [Keypoint estimation](https://beta-docs.voxel51.com/integrations/ultralytics/#keypoints) models. All you have to do is instantiate an Ultralytics model for keypoint estimation and pass that into the [`apply_model` method](https://beta-docs.voxel51.com/api/fiftyone.core.models.html#apply_model) of your [Dataset](https://beta-docs.voxel51.com/api/fiftyone.core.dataset.Dataset.html). "
   ]
  },
  {
   "cell_type": "code",
   "execution_count": null,
   "metadata": {},
   "outputs": [],
   "source": [
    "!pip install ultralytics"
   ]
  },
  {
   "cell_type": "code",
   "execution_count": 4,
   "metadata": {},
   "outputs": [
    {
     "name": "stdout",
     "output_type": "stream",
     "text": [
      " 100% |█████████████████| 846/846 [23.7s elapsed, 0s remaining, 35.9 samples/s]      \n"
     ]
    }
   ],
   "source": [
    "from ultralytics import YOLO\n",
    "\n",
    "ul_pose_model = YOLO(\"yolo11n-pose.pt\") \n",
    "\n",
    "keypoint_dataset.apply_model(ul_pose_model, label_field=\"ul_pose\")"
   ]
  },
  {
   "cell_type": "markdown",
   "metadata": {},
   "source": [
    "You can inspect the [first Sample](https://beta-docs.voxel51.com/api/fiftyone.core.dataset.Dataset.html#first) of your Dataset as before:"
   ]
  },
  {
   "cell_type": "code",
   "execution_count": 5,
   "metadata": {},
   "outputs": [
    {
     "data": {
      "text/plain": [
       "<Keypoints: {\n",
       "    'keypoints': [\n",
       "        <Keypoint: {\n",
       "            'id': '67d886697fe8205cb39fc9c6',\n",
       "            'attributes': {},\n",
       "            'tags': [],\n",
       "            'label': 'person',\n",
       "            'points': [\n",
       "                [0.44621869921684265, 0.16390232741832733],\n",
       "                [0.4681428074836731, 0.13291257619857788],\n",
       "                [0.43007001280784607, 0.13300056755542755],\n",
       "                [0.4991542100906372, 0.16258731484413147],\n",
       "                [0.4017489552497864, 0.16290490329265594],\n",
       "                [0.5392971038818359, 0.33804500102996826],\n",
       "                [0.3559896945953369, 0.3735353946685791],\n",
       "                [0.567536473274231, 0.6175299882888794],\n",
       "                [0.3908997178077698, 0.548811674118042],\n",
       "                [0.513115406036377, 0.7681204676628113],\n",
       "                [0.4212362468242645, 0.30758777260780334],\n",
       "                [0.5325959324836731, 0.7181503176689148],\n",
       "                [0.4006675183773041, 0.7379183173179626],\n",
       "                [0.5545814633369446, 0.7615246176719666],\n",
       "                [0.3563954830169678, 0.8105442523956299],\n",
       "                [0.6064387559890747, 0.8693596720695496],\n",
       "                [0.4452235698699951, 0.8603571057319641],\n",
       "            ],\n",
       "            'confidence': [\n",
       "                0.9964215755462646,\n",
       "                0.988978922367096,\n",
       "                0.9839149713516235,\n",
       "                0.924457311630249,\n",
       "                0.7615193724632263,\n",
       "                0.9967668056488037,\n",
       "                0.9995267391204834,\n",
       "                0.9808858036994934,\n",
       "                0.9971755743026733,\n",
       "                0.9727884531021118,\n",
       "                0.991881787776947,\n",
       "                0.9970002770423889,\n",
       "                0.9986845850944519,\n",
       "                0.9738444089889526,\n",
       "                0.9871912002563477,\n",
       "                0.819236695766449,\n",
       "                0.8919721245765686,\n",
       "            ],\n",
       "            'index': None,\n",
       "        }>,\n",
       "    ],\n",
       "}>"
      ]
     },
     "execution_count": 5,
     "metadata": {},
     "output_type": "execute_result"
    }
   ],
   "source": [
    "keypoint_dataset.first()['ul_pose']"
   ]
  },
  {
   "cell_type": "markdown",
   "metadata": {},
   "source": [
    "# Using Plugins\n",
    "\n",
    "FiftyOne provides a powerful [Plugin framework](https://beta-docs.voxel51.com/plugins/) that allows for extending and customizing the functionality of the tool to suit your specific needs. Check out the [FiftyOne plugins repository](https://github.com/voxel51/fiftyone-plugins) for a growing collection of plugins that you can easily [download](https://beta-docs.voxel51.com/plugins/using_plugins/#plugins-download) and use locally.\n",
    "\n",
    "One plugin that's been contributed by a community member is the [ViTPose plugin](https://github.com/harpreetsahota204/vitpose-plugin). You can learn more about the plugin by visit it's GitHub repo.\n",
    "\n",
    "Let's start by setting a require enviornment variable:"
   ]
  },
  {
   "cell_type": "code",
   "execution_count": 6,
   "metadata": {},
   "outputs": [],
   "source": [
    "import os\n",
    "\n",
    "os.environ['FIFTYONE_ALLOW_LEGACY_ORCHESTRATORS'] = 'true'"
   ]
  },
  {
   "cell_type": "markdown",
   "metadata": {},
   "source": [
    "Now, [download the plugin](https://beta-docs.voxel51.com/plugins/using_plugins/#downloading-plugins):"
   ]
  },
  {
   "cell_type": "code",
   "execution_count": null,
   "metadata": {},
   "outputs": [],
   "source": [
    "!fiftyone plugins download https://github.com/harpreetsahota204/vitpose-plugin"
   ]
  },
  {
   "cell_type": "markdown",
   "metadata": {},
   "source": [
    "Ensure that you've [installed all the requirements](https://beta-docs.voxel51.com/plugins/using_plugins/#installing-plugin-requirements) for the plugin:"
   ]
  },
  {
   "cell_type": "code",
   "execution_count": null,
   "metadata": {},
   "outputs": [],
   "source": [
    "!fiftyone plugins requirements @harpreetsahota/vitpose --install"
   ]
  },
  {
   "cell_type": "markdown",
   "metadata": {},
   "source": [
    "This plugin requires that we have some [Metadata about our dataset](https://beta-docs.voxel51.com/fiftyone_concepts/using_datasets/#metadata). To ensure you have the required metadata, use the [`compute_metadata` method](https://beta-docs.voxel51.com/api/fiftyone.core.metadata.html#compute_metadata) of the Dataset:"
   ]
  },
  {
   "cell_type": "code",
   "execution_count": 8,
   "metadata": {},
   "outputs": [
    {
     "name": "stdout",
     "output_type": "stream",
     "text": [
      "Computing metadata...\n",
      " 100% |█████████████████| 846/846 [272.8ms elapsed, 0s remaining, 3.1K samples/s]      \n"
     ]
    }
   ],
   "source": [
    "keypoint_dataset.compute_metadata()"
   ]
  },
  {
   "cell_type": "markdown",
   "metadata": {},
   "source": [
    "You can use the Plugin via the [FiftyOne App](https://beta-docs.voxel51.com/getting_started/basic/application_tour/) or [via the SDK](https://beta-docs.voxel51.com/plugins/using_plugins/#calling-operators) by instantiating the operator [using `get_operator`](https://beta-docs.voxel51.com/api/fiftyone.operators.registry.html#get_operator) as shown below:"
   ]
  },
  {
   "cell_type": "code",
   "execution_count": null,
   "metadata": {},
   "outputs": [],
   "source": [
    "import fiftyone.operators as foo\n",
    "\n",
    "vitpose_operator = foo.get_operator(\"@harpreetsahota/vitpose/vitpose_keypoint_estimator\")"
   ]
  },
  {
   "cell_type": "markdown",
   "metadata": {},
   "source": [
    "This model requires that we have bounding boxes. Luckily, we have already obtained these when we applied `keypoint-rcnn-resnet50-fpn-coco-torch` to our Dataset above.\n",
    "\n",
    "You'll need to start a [Delegated Service](https://beta-docs.voxel51.com/plugins/developing_plugins/#delegated-execution_1). To do so, open your terminal and run: `fiftyone delegated launch`"
   ]
  },
  {
   "cell_type": "code",
   "execution_count": null,
   "metadata": {},
   "outputs": [],
   "source": [
    "# Run the operator on your dataset\n",
    "vitpose_operator(\n",
    "    keypoint_dataset,\n",
    "    model_name=\"usyd-community/vitpose-plus-small\",  # Select from one of the supported models\n",
    "    bbox_field=\"rcnn_keypoints_detections\", # Name of the field where your bounding box detections are stored.\n",
    "    output_field=\"vitpose_estimates\",  # Name of the field to store the Keypoints in.\n",
    "    confidence_threshold= 0.55, #Confidence threshold for keypoint detection\n",
    "    delegate=True\n",
    ")"
   ]
  },
  {
   "cell_type": "markdown",
   "metadata": {},
   "source": [
    "If you're running the Operator in a notebook, you will need to [Save your Dataset](https://beta-docs.voxel51.com/faq/#why-didnt-changes-to-my-dataset-save):"
   ]
  },
  {
   "cell_type": "code",
   "execution_count": 11,
   "metadata": {},
   "outputs": [],
   "source": [
    "keypoint_dataset.save()"
   ]
  },
  {
   "cell_type": "markdown",
   "metadata": {},
   "source": [
    "You can monitor the progress of the execution in your terminal. You'll see something to the effect of `Operation 67d88b7a7fe8205cb39fcf8b complete`  upon successful execution of the [Operator](https://beta-docs.voxel51.com/api/fiftyone.operators.operator.Operator.html). Like before, you can inspect the first element of your Dataset:"
   ]
  },
  {
   "cell_type": "code",
   "execution_count": 12,
   "metadata": {},
   "outputs": [
    {
     "data": {
      "text/plain": [
       "<Keypoints: {\n",
       "    'keypoints': [\n",
       "        <Keypoint: {\n",
       "            'id': '67d88b7e4a54d4dbaaf77c7a',\n",
       "            'attributes': {},\n",
       "            'tags': [],\n",
       "            'label': 'person',\n",
       "            'points': [\n",
       "                [0.44923893610636395, 0.1704833984375],\n",
       "                [0.4699263572692871, 0.13364246509693287],\n",
       "                [0.4285169919331869, 0.13664460358796296],\n",
       "                [0.49417511622111004, 0.1592803955078125],\n",
       "                [0.40818579991658527, 0.1666087962962963],\n",
       "                [0.538152567545573, 0.35329295970775465],\n",
       "                [0.37299680709838867, 0.3453253286856192],\n",
       "                [0.5570560455322265, 0.6124801070601852],\n",
       "                [0.4096650759379069, 0.5843711570457176],\n",
       "                [0.5075816154479981, 0.763127757884838],\n",
       "                [0.4215219179789225, 0.34310212311921295],\n",
       "                [0.5223502159118653, 0.7390630651403356],\n",
       "                [0.4158531506856283, 0.7545021339699074],\n",
       "                [0.6923196156819661, 0.7509071632667824],\n",
       "                [0.30827372868855796, 0.787372617368345],\n",
       "                [0.5190111478169759, 0.9034255416304977],\n",
       "            ],\n",
       "            'confidence': [\n",
       "                0.9434729814529419,\n",
       "                0.9817294478416443,\n",
       "                0.9361246824264526,\n",
       "                0.8964086174964905,\n",
       "                0.9384421110153198,\n",
       "                0.9214484095573425,\n",
       "                0.9293968677520752,\n",
       "                0.9615890979766846,\n",
       "                0.9260848760604858,\n",
       "                0.9617094397544861,\n",
       "                0.9044341444969177,\n",
       "                0.7140032649040222,\n",
       "                0.7526169419288635,\n",
       "                0.8668050765991211,\n",
       "                0.9065258502960205,\n",
       "                0.8299188017845154,\n",
       "            ],\n",
       "            'index': None,\n",
       "        }>,\n",
       "    ],\n",
       "}>"
      ]
     },
     "execution_count": 12,
     "metadata": {},
     "output_type": "execute_result"
    }
   ],
   "source": [
    "keypoint_dataset.first()['vitpose_estimates']"
   ]
  },
  {
   "cell_type": "markdown",
   "metadata": {},
   "source": [
    "# Hugging Face Models"
   ]
  },
  {
   "cell_type": "code",
   "execution_count": null,
   "metadata": {},
   "outputs": [],
   "source": []
  },
  {
   "cell_type": "code",
   "execution_count": null,
   "metadata": {},
   "outputs": [],
   "source": []
  },
  {
   "cell_type": "code",
   "execution_count": null,
   "metadata": {},
   "outputs": [],
   "source": []
  },
  {
   "cell_type": "markdown",
   "metadata": {},
   "source": [
    "# Evaluate Keypoints"
   ]
  },
  {
   "cell_type": "code",
   "execution_count": null,
   "metadata": {},
   "outputs": [],
   "source": []
  },
  {
   "cell_type": "code",
   "execution_count": null,
   "metadata": {},
   "outputs": [],
   "source": []
  }
 ],
 "metadata": {
  "kernelspec": {
   "display_name": "fiftyone",
   "language": "python",
   "name": "python3"
  },
  "language_info": {
   "codemirror_mode": {
    "name": "ipython",
    "version": 3
   },
   "file_extension": ".py",
   "mimetype": "text/x-python",
   "name": "python",
   "nbconvert_exporter": "python",
   "pygments_lexer": "ipython3",
   "version": "3.11.0"
  }
 },
 "nbformat": 4,
 "nbformat_minor": 2
}
