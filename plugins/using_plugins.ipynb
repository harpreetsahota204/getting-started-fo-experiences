{
 "cells": [
  {
   "cell_type": "markdown",
   "metadata": {},
   "source": [
    "## Who This Is For\n",
    "\n",
    "This guide is tailored for:\n",
    "- Users with at least a basic understanding of the FiftyOne platform. It's suitable for those familiar with the core functionalities and looking to explore advanced features through plugins.\n",
    "\n",
    "- Ideal for data scientists and developers with a background in computer vision who are interested in enhancing their data analysis and visualization capabilities.\n",
    "\n",
    "- Users aiming to extend the functionality of FiftyOne through plugins for customized data handling, visualization, or integration with other tools and APIs.\n",
    "\n",
    "## Assumed Knowledge\n",
    "\n",
    "- Comfortable with Python, especially in data manipulation and script writing.\n",
    "\n",
    "- An understanding of basic FiftyOne usage. For more detailed information, refer to:\n",
    "  - [FiftyOne User Guide](https://beta-docs.voxel51.com/getting_started/basics/)\n",
    "  - [FiftyOne Concepts and Features](https://beta-docs.voxel51.com/fiftyone_concepts/)\n",
    "\n",
    "## Time to Complete\n",
    "~ 30 minutes\n",
    "\n",
    "## Required Packages\n",
    "Ensure you are working within a Python virtual environment with FiftyOne already installed. This helps in managing dependencies effectively and isolates your project environment.\n",
    "\n",
    "If FiftyOne is not installed, you can install it using pip:\n",
    "  ```bash\n",
    "  pip install fiftyone\n",
    "  ```\n",
    "\n",
    "Additional dependencies specific to plugins will be handled as you progress through the tutorial.\n",
    "\n",
    "## Content Overview\n",
    "\n",
    "- Learn what plugins are and how they can extend the functionality of FiftyOne.\n",
    "- Discover how to find and evaluate plugins that can enhance your FiftyOne experience.\n",
    "- Detailed instructions on how to install plugins using both the CLI and the Python SDK.\n",
    "- Guidance on integrating and utilizing plugins within the FiftyOne ecosystem for enhanced data analysis and visualization.\n",
    "- Explore advanced functionalities like delegated operations for handling long-running tasks.\n",
    "\n",
    "\n",
    "# What is a plugin?\n",
    "\n",
    " Plugins are software components that extend the functionality of an existing software application or library without modifying its core code. \n",
    "\n",
    "In the context of [FiftyOne](https://beta-docs.voxel51.com/plugins/), plugins are dynamic add-ons that allow users to customize and enhance the capabilities of FiftyOne by adding new features, easily installing, removing, or updating functionality without changing the core architecture.\n",
    "\n",
    "## FiftyOne Plugin Framework\n",
    "\n",
    "FiftyOne provides a powerful plugin framework that empowers users to extend and customize functionality according to their specific needs. With plugins, you can:\n",
    "\n",
    "* Add new features to the FiftyOne App interface\n",
    "\n",
    "* Create seamless integrations with other tools and APIs\n",
    "\n",
    "* Render custom panels for specialized data visualization\n",
    "\n",
    "* Add custom actions to menus for streamlined workflows\n",
    "\n",
    "* Execute long-running tasks on connected compute clusters\n",
    "\n",
    "The FiftyOne ecosystem includes numerous [ready-to-use plugins that address common computer vision workflows](https://beta-docs.voxel51.com/plugins/#getting-started). For example, the [`@voxel51/io plugin`](https://github.com/voxel51/fiftyone-plugins/tree/main/plugins/io) enables data importing directly within the App, while the [`@voxel51/brain` plugin](https://github.com/voxel51/fiftyone-plugins/tree/main/plugins/brain) allows you to compute embeddings in the background while you continue working. Other popular plugins facilitate [model evaluation](https://github.com/voxel51/fiftyone-plugins/tree/main/plugins/evaluation), [annotation workflows](https://github.com/voxel51/fiftyone-plugins/tree/main/plugins/annotation), and [custom dashboards](https://github.com/voxel51/fiftyone-plugins/tree/main/plugins/dashboard).\n",
    "\n",
    "Many of FiftyOne's built-in features are implemented as plugins, such as [interactive Panels](https://beta-docs.voxel51.com/plugins/developing_plugins/#developing-panels) that function as miniature data applications within App Spaces, allowing you to explore geolocation data or visualize embeddings.\n",
    "\n",
    "Whether you're using the growing collection of community plugins or developing your own, FiftyOne's plugin architecture provides a flexible foundation for customizing your computer vision workflows without compromising the stability of the core platform.\n"
   ]
  },
  {
   "cell_type": "markdown",
   "metadata": {},
   "source": [
    "# Browsing Available FiftyOne Plugins\n",
    "\n",
    "There are several ways to discover and browse available plugins for FiftyOne:\n",
    "\n",
    " 1. Visit the [Official Repository](https://github.com/voxel51/fiftyone-plugins): The FiftyOne plugins repository on GitHub contains a growing collection of official plugins that you can explore. This is the primary source for Voxel51-developed plugins.\n",
    "\n",
    " 2. [Check the Documentation](https://beta-docs.voxel51.com/plugins/): The plugins section of the FiftyOne documentation provides information about popular plugins and their capabilities.\n",
    "\n",
    "\n",
    "Browse Official Plugins: The core set of plugins developed by Voxel51 includes:\n",
    "\n",
    "* [`@voxel51/annotation`](https://github.com/voxel51/fiftyone-plugins/tree/main/plugins/annotation) - Integration with annotation tools\n",
    "\n",
    "* [`@voxel51/brain`](https://github.com/voxel51/fiftyone-plugins/tree/main/plugins/brain) - Brain functionality utilities\n",
    "\n",
    "* [`@voxel51/dashboard`](https://github.com/voxel51/fiftyone-plugins/tree/main/plugins/dashboard) - Custom dashboard creation\n",
    "\n",
    "* [`@voxel51/evaluation`](https://github.com/voxel51/fiftyone-plugins/tree/main/plugins/evaluation) - Model evaluation tools\n",
    "\n",
    "* [`@voxel51/io`](https://github.com/voxel51/fiftyone-plugins/tree/main/plugins/io) - Import/export utilities\n",
    "\n",
    "* [`@voxel51/indexes`](https://github.com/voxel51/fiftyone-plugins/tree/main/plugins/indexes) - Database index utilities\n",
    "\n",
    "* [`@voxel51/runs`](https://github.com/voxel51/fiftyone-plugins/tree/main/plugins/runs) - Custom runs management\n",
    "\n",
    "* [`@voxel51/utils`](https://github.com/voxel51/fiftyone-plugins/tree/main/plugins/utils) - SDK utility tools\n",
    "\n",
    "* [`@voxel51/voxelgpt`](https://github.com/voxel51/voxelgpt) - AI assistant for visual datasets\n",
    "\n",
    "* [`@voxel51/zoo`](https://github.com/voxel51/fiftyone-plugins/tree/main/plugins/zoo) - Dataset and model zoo integration\n",
    "\n",
    "Each plugin in the repository includes documentation about its features and how to use it, allowing you to determine which plugins best meet your specific needs.\n",
    "\n",
    "\n",
    "## FiftyOne Community Plugins\n",
    "\n",
    "FiftyOne's ecosystem is enriched by community-contributed plugins that extend the platform's capabilities in innovative ways. \n",
    "\n",
    "The growing collection of community plugins provides specialized tools and integrations developed by computer vision practitioners around the world. Whether you're looking for custom visualization solutions, unique data processing workflows, or integrations with other tools, community plugins offer ready-to-use extensions that can be easily downloaded from the FiftyOne plugins repository. \n",
    "\n",
    "Join the collaborative ecosystem by [using existing community plugins](https://github.com/voxel51/fiftyone-plugins?tab=readme-ov-file#community-plugins) or [sharing your own custom solutions](https://beta-docs.voxel51.com/plugins/developing_plugins/) to help others enhance their computer vision workflows.\n",
    "\n",
    "# Using plugins\n",
    "\n",
    "Let's get hands on with using the Plugins framework. We'll work with the [`quickstart` dataset from the FiftyOne Dataset Zoo](https://beta-docs.voxel51.com/data/dataset_zoo/datasets/). You can download the dataset as follows:\n",
    "\n"
   ]
  },
  {
   "cell_type": "code",
   "execution_count": null,
   "metadata": {},
   "outputs": [],
   "source": [
    "import fiftyone as fo\n",
    "import fiftyone.zoo as foz\n",
    "\n",
    "dataset = foz.load_zoo_dataset(\"quickstart-geo\")"
   ]
  },
  {
   "cell_type": "markdown",
   "metadata": {},
   "source": [
    "## Installing Plugins\n",
    "\n",
    "Plugins can be installed using either the [FiftyOne command line interface (CLI)](https://beta-docs.voxel51.com/cli/#cli-fiftyone-plugins-list) or the Python SDK.\n",
    "\n",
    "### Using the CLI\n",
    "\n",
    "The most common way to install plugins is from GitHub repositories. One pattern you can use is to download all the plugins in a repository:\n",
    "\n",
    "```bash\n",
    "fiftyone plugins download https://github.com/<plugin-author>/<repo-name>\n",
    "```\n",
    "\n",
    "Use this approach when:\n",
    "\n",
    "• You want to explore the full range of functionality provided by a collection\n",
    "\n",
    "• Working with official repositories like the FiftyOne plugins collection\n",
    "\n",
    "• You need multiple plugins that work together from the same source\n",
    "\n",
    "• Starting a new project and wanting to have all tools available\n",
    "\n",
    "\n",
    "If the repository has several plugins, you can also install specific plugins from that repository with the following syntax:\n",
    "\n",
    "```bash\n",
    "fiftyone plugins download https://github.com/voxel51/fiftyone-plugins --plugin-names @voxel51/brain @voxel51/evaluation\n",
    "```\n",
    "\n",
    "Let's install a few plugins.\n",
    "\n",
    " > Note: This tutorial was originally written in a Jupyter Notebook, so I will use the `!` syntax to execute shell commands directly in the notebook cells. If you're running these commands in a regular terminal, simply omit the `!` prefix from the commands."
   ]
  },
  {
   "cell_type": "code",
   "execution_count": null,
   "metadata": {},
   "outputs": [],
   "source": [
    "# installing one plugin from a repository with several plugins\n",
    "!fiftyone plugins download \\\n",
    "    https://github.com/voxel51/fiftyone-plugins \\\n",
    "    --plugin-names @voxel51/dashboard"
   ]
  },
  {
   "cell_type": "code",
   "execution_count": null,
   "metadata": {},
   "outputs": [],
   "source": [
    "# installing a plugin from a repository with just one plugin\n",
    "!fiftyone plugins download https://github.com/harpreetsahota204/moondream2-plugin"
   ]
  },
  {
   "cell_type": "markdown",
   "metadata": {},
   "source": [
    "### Using the SDK\n",
    "\n",
    "You can also install plugins programmatically using the Python SDK. If you wish to install install all plugins from a repository, you can use this syntax:\n"
   ]
  },
  {
   "cell_type": "code",
   "execution_count": null,
   "metadata": {},
   "outputs": [],
   "source": [
    "import fiftyone.plugins as fop\n",
    "\n",
    "fop.download_plugin(\"https://github.com/jacobmarks/image-quality-issues\")"
   ]
  },
  {
   "cell_type": "markdown",
   "metadata": {},
   "source": [
    "Note: The map plugin requires a Mapbox token, which you can get [here](https://console.mapbox.com/). Once you have your token, you need to set the following enviornment variable:\n",
    "\n",
    "```bash\n",
    "export MAPBOX_TOKEN=XXXXXXXX\n",
    "```\n",
    "\n",
    "You will have to set this token if you restart or end your current Python session. Alternatively, you can configire the token via the FiftyOne App config. You can [learn how to do that here](https://beta-docs.voxel51.com/fiftyone_concepts/config/#configuring-fiftyone-app)."
   ]
  },
  {
   "cell_type": "code",
   "execution_count": null,
   "metadata": {},
   "outputs": [],
   "source": [
    "fop.download_plugin(\"https://github.com/allenleetc/plotly-map-panel\")"
   ]
  },
  {
   "cell_type": "markdown",
   "metadata": {},
   "source": [
    "Alternatively, you can download specific plugins from a repository with several plugins via this syntax:"
   ]
  },
  {
   "cell_type": "code",
   "execution_count": null,
   "metadata": {},
   "outputs": [],
   "source": [
    "fop.download_plugin(\n",
    "    \"https://github.com/voxel51/fiftyone-plugins\",\n",
    "    plugin_names=[\"@voxel51/plugins\", \"@voxel51/evaluation\"]\n",
    ")"
   ]
  },
  {
   "cell_type": "markdown",
   "metadata": {},
   "source": [
    "All plugins are automatically downloaded to your plugins directory in order for FiftyOne to find them. By default, plugins are downloaded to `~/fiftyone/__plugins__`, but you can customize this directory by setting the `FIFTYONE_PLUGINS_DIR` environment variable.\n",
    "\n",
    "You can use the `fiftyone plugins list` command in the [FiftyOne CLI](https://beta-docs.voxel51.com/cli/#cli-fiftyone-plugins-list) to list the plugins that you’ve downloaded or created locally:"
   ]
  },
  {
   "cell_type": "code",
   "execution_count": 8,
   "metadata": {},
   "outputs": [
    {
     "name": "stdout",
     "output_type": "stream",
     "text": [
      "plugin                            version    enabled    builtin    directory\n",
      "--------------------------------  ---------  ---------  ---------  --------------------------------------------------------------------------------------\n",
      "@voxel51/operators                1.0.0      ✓          ✓          /home/harpreet/miniconda3/envs/fiftyone/lib/python3.11/site-packages/plugins/operators\n",
      "@voxel51/panels                   1.0.0      ✓          ✓          /home/harpreet/miniconda3/envs/fiftyone/lib/python3.11/site-packages/plugins/panels\n",
      "@jacobmarks/image_issues          2.0.6      ✓                     /home/harpreet/fiftyone/__plugins__/@jacobmarks/image_issues\n",
      "@jacobmarks/florence2             1.0.0      ✓                     /home/harpreet/fiftyone/__plugins__/@jacobmarks/florence2\n",
      "@harpreetsahota/aimv2_embeddings  1.0.1      ✓                     /home/harpreet/fiftyone/__plugins__/@harpreetsahota/aimv2_embeddings\n",
      "@harpreetsahota/hiera_embeddings  1.0.1      ✓                     /home/harpreet/fiftyone/__plugins__/@harpreetsahota/hiera_embeddings\n",
      "@harpreetsahota/janus_vqa         1.0.1      ✓                     /home/harpreet/fiftyone/__plugins__/@harpreetsahota/janus_vqa\n",
      "@harpreetsahota/moondream2        1.0.1      ✓                     /home/harpreet/fiftyone/__plugins__/@harpreetsahota/moondream2\n",
      "Plotly Map                        0.0.2      ✓                     /home/harpreet/fiftyone/__plugins__/Plotly Map\n",
      "@voxel51/delegated                1.0.2      ✓                     /home/harpreet/fiftyone/__plugins__/@voxel51/delegated\n",
      "@voxel51/utils                    1.1.1      ✓                     /home/harpreet/fiftyone/__plugins__/@voxel51/utils\n",
      "@voxel51/brain                    1.1.2      ✓                     /home/harpreet/fiftyone/__plugins__/@voxel51/brain\n",
      "@voxel51/evaluation               1.0.2      ✓                     /home/harpreet/fiftyone/__plugins__/@voxel51/evaluation\n",
      "@voxel51/plugins                  1.0.3      ✓                     /home/harpreet/fiftyone/__plugins__/@voxel51/plugins\n",
      "@voxel51/annotation               1.0.2      ✓                     /home/harpreet/fiftyone/__plugins__/@voxel51/annotation\n",
      "@voxel51/transformers             0.1.0      ✓                     /home/harpreet/fiftyone/__plugins__/@voxel51/transformers\n",
      "@voxel51/indexes                  1.0.3      ✓                     /home/harpreet/fiftyone/__plugins__/@voxel51/indexes\n",
      "@voxel51/dashboard                1.0.2      ✓                     /home/harpreet/fiftyone/__plugins__/@voxel51/dashboard\n",
      "@voxel51/io                       1.0.1      ✓                     /home/harpreet/fiftyone/__plugins__/@voxel51/io\n"
     ]
    }
   ],
   "source": [
    "!fiftyone plugins list"
   ]
  },
  {
   "cell_type": "markdown",
   "metadata": {},
   "source": [
    "Alternatively, you can use the [`list_downloaded_plugins` method from the SDK](https://beta-docs.voxel51.com/api/fiftyone.plugins.core.html#list_downloaded_plugins):"
   ]
  },
  {
   "cell_type": "code",
   "execution_count": 7,
   "metadata": {},
   "outputs": [
    {
     "data": {
      "text/plain": [
       "['@jacobmarks/image_issues',\n",
       " '@jacobmarks/florence2',\n",
       " '@harpreetsahota/aimv2_embeddings',\n",
       " '@harpreetsahota/hiera_embeddings',\n",
       " '@harpreetsahota/janus_vqa',\n",
       " '@harpreetsahota/moondream2',\n",
       " 'Plotly Map',\n",
       " '@voxel51/delegated',\n",
       " '@voxel51/utils',\n",
       " '@voxel51/brain',\n",
       " '@voxel51/evaluation',\n",
       " '@voxel51/plugins',\n",
       " '@voxel51/annotation',\n",
       " '@voxel51/transformers',\n",
       " '@voxel51/indexes',\n",
       " '@voxel51/dashboard',\n",
       " '@voxel51/io']"
      ]
     },
     "execution_count": 7,
     "metadata": {},
     "output_type": "execute_result"
    }
   ],
   "source": [
    "fop.list_downloaded_plugins()"
   ]
  },
  {
   "cell_type": "markdown",
   "metadata": {},
   "source": [
    "### Installing Plugin Dependencies\n",
    "\n",
    "Many plugins require additional dependencies to function properly. You can view and install dependencies using the following commands:"
   ]
  },
  {
   "cell_type": "code",
   "execution_count": 9,
   "metadata": {},
   "outputs": [
    {
     "name": "stdout",
     "output_type": "stream",
     "text": [
      "transformers\n",
      "torch\n",
      "pyvips-binary\n",
      "pyvips\n",
      "pillow\n"
     ]
    }
   ],
   "source": [
    "# View a plugin's dependencies\n",
    "!fiftyone plugins requirements @harpreetsahota/moondream2 --print"
   ]
  },
  {
   "cell_type": "markdown",
   "metadata": {},
   "source": [
    "You can install the requirements like so:\n"
   ]
  },
  {
   "cell_type": "code",
   "execution_count": null,
   "metadata": {},
   "outputs": [],
   "source": [
    "!fiftyone plugins requirements @harpreetsahota/moondream2 --install"
   ]
  },
  {
   "cell_type": "markdown",
   "metadata": {},
   "source": [
    "\n",
    "You can also achieve this [via the SDK](https://beta-docs.voxel51.com/api/fiftyone.plugins.core.html):"
   ]
  },
  {
   "cell_type": "code",
   "execution_count": null,
   "metadata": {},
   "outputs": [],
   "source": [
    "import fiftyone.plugins as fop\n",
    "\n",
    "fop.install_plugin_requirements(\"@harpreetsahota/moondream2\")"
   ]
  },
  {
   "cell_type": "code",
   "execution_count": 14,
   "metadata": {},
   "outputs": [],
   "source": [
    "import fiftyone.plugins as fop\n",
    "\n",
    "fop.ensure_plugin_requirements(\"@jacobmarks/image_issues\")"
   ]
  },
  {
   "cell_type": "markdown",
   "metadata": {},
   "source": [
    "# Using Plugins via the FiftyOne App\n",
    "\n",
    "Once your plugins have been installed, you can use them via the [FiftyOne App](https://beta-docs.voxel51.com/getting_started/basic/application_tour/).\n",
    "\n",
    "Start by launching the app, when you can do by running:\n",
    "\n",
    "```python\n",
    "import fiftyone as fo\n",
    "\n",
    "fo.launch_app(dataset)\n",
    "```\n",
    "\n",
    "Or by running the following command in your terminal:\n",
    "\n",
    "```bash\n",
    "fiftyone app launch\n",
    "```\n",
    "\n",
    "\n",
    "Note that the `Dashboard`, `Map`, and `Model Evaluation` plugin can be accessed via the panel by hitting the `+` next to the Samples viewer:\n",
    "\n",
    "<img src=\"assets/map-dashboard-plugin.webp\" width=\"80%\">\n",
    "\n",
    "\n",
    "Other plugins must be accessed via the operations browser. With the app is launched, hit the backtick button on your keyboard (`` ` ``), this will open the operators browser in the app. You can browse available plugins and interact with it via the App. \n",
    "\n",
    "In the example below, I'm accessing the Plugins Manager plugin:\n",
    "\n",
    "<img src=\"assets/operators-browser.webp\" width=\"80%\">\n",
    "\n",
    "Some plugins require longer execution time, and for that you need to start a delegated service."
   ]
  },
  {
   "cell_type": "markdown",
   "metadata": {},
   "source": [
    "# Understanding Delegated Operations\n",
    "\n",
    "### What Are Delegated Operations?\n",
    "\n",
    "[Delegated operations](https://beta-docs.voxel51.com/plugins/developing_plugins/#delegated-execution_1) allow you to schedule long-running tasks that execute in the background while you continue working with FiftyOne. \n",
    "\n",
    "This is especially useful for:\n",
    "\n",
    "- Computing embeddings for large datasets\n",
    "- Running model evaluation\n",
    "- Processing and importing large datasets\n",
    "- Exporting datasets in various formats\n",
    "\n",
    "### Why Use Delegated Operations?\n",
    "\n",
    "Without [delegated operations](https://beta-docs.voxel51.com/api/fiftyone.operators.delegated.DelegatedOperationService.html), tasks like computing embeddings would block your FiftyOne session until they complete. Delegated operations let you:\n",
    "\n",
    "1. Schedule tasks and continue working\n",
    "2. Run resource-intensive operations without affecting UI responsiveness\n",
    "3. Manage and track the status of long-running processes\n",
    "\n",
    "### Starting a Delegated Service\n",
    "\n",
    "First, enable legacy orchestrators in your environment. If you already have an app session running, you need to close it and then open your terminal and run the following command:\n",
    "\n",
    "```bash\n",
    "export FIFTYONE_ALLOW_LEGACY_ORCHESTRATORS=true\n",
    "```\n",
    "\n",
    "Go ahead and lanch the app again. \n",
    "\n",
    "Then, open a new terminal session and launch the delegated service by running the following command in your terminal:\n",
    "\n",
    "```bash\n",
    "fiftyone delegated launch\n",
    "```\n",
    "\n",
    "This command starts a service that continuously checks for queued operations and executes them serially.\n",
    "\n",
    "In the example below, I will run the Moondream2 plugin and add short captions to each image on the dataset. You'll notice that I set the environment variable in the same terminal session as where I launched the app, and I can view the progress in the other terminal session where I launched the delegated service.\n",
    "\n",
    "<img src=\"assets/delegated-execution.webp\" width=\"80%\">\n",
    "\n",
    "\n"
   ]
  },
  {
   "cell_type": "markdown",
   "metadata": {},
   "source": [
    "# Using plugins via FiftyOne SDK\n",
    "\n",
    "The [FiftyOne SDK](https://beta-docs.voxel51.com/plugins/using_plugins/#executing-operators-via-sdk) provides a programmatic way to execute plugin operators directly from your Python code, giving you the same functionality available in the App but with the flexibility of code integration.\n",
    "\n",
    "Operators that implement the `__call__` method can be invoked as functions with natural Python syntax, as shown above. The parameters you pass are automatically converted to the format expected by the operator.\n",
    "\n",
    "Each operator has a unique URI that follows this format: `@namespace/plugin-name/operator-name`\n",
    "\n",
    "You can find these URIs by:\n",
    "\n",
    "• Looking in the plugin's [`fiftyone.yal` file](https://beta-docs.voxel51.com/plugins/developing_plugins/#fiftyoneyml\n",
    ")\n",
    "\n",
    "• Using the CLI: `fiftyone operators info`\n",
    "\n",
    "• Checking the plugin's documentation\n",
    "\n",
    "The [Moondream2 plugin](https://github.com/harpreetsahota204/moondream2-plugin) implements the `__call__` method, so we can use it via the SDK. Start by instantiating the Operator:"
   ]
  },
  {
   "cell_type": "code",
   "execution_count": 18,
   "metadata": {},
   "outputs": [],
   "source": [
    "import fiftyone.operators as foo\n",
    "\n",
    "moondream_operator = foo.get_operator(\"@harpreetsahota/moondream2/moondream\")"
   ]
  },
  {
   "cell_type": "markdown",
   "metadata": {},
   "source": [
    "### Jupyter Notebook-Specific Behavior\n",
    "\n",
    "When using FiftyOne operators in notebooks (like Jupyter or Colab), there's an important difference in execution flow: operators return an `asyncio.Task` rather than immediate results. \n",
    "\n",
    "This means you must use the `await` keyword to properly retrieve the results. If you forget to use `await`, you'll receive a Task object instead of your actual results, which may cause confusion when trying to access or process the output. \n",
    "\n",
    "This asynchronous behavior is specific to notebook environments and ensures that your notebook interface remains responsive during operation execution, especially for operations that might take time to complete.\n",
    "\n",
    "> Note: The below assumes you have your delegated service still running. If you have stopped your delegated service please execute `fiftyone delegated launch` in your terminal before running the next line of code."
   ]
  },
  {
   "cell_type": "code",
   "execution_count": null,
   "metadata": {},
   "outputs": [],
   "source": [
    "await moondream_operator(\n",
    "    dataset,\n",
    "    revision=\"2025-01-09\",\n",
    "    operation=\"caption\",\n",
    "    output_field=\"moondream_caption\",\n",
    "    length=\"normal\",\n",
    "    delegate=True\n",
    ")"
   ]
  },
  {
   "cell_type": "markdown",
   "metadata": {},
   "source": [
    "\n",
    "### Next steps\n",
    "\n",
    "* Watch one of our [previously recorded workshops for getting started with plugins on YouTube](https://youtu.be/y4FTFxZwp8g)\n",
    "\n",
    "* Learn more about using the [Model Evaluation Panel](https://beta-docs.voxel51.com/fiftyone_concepts/evaluation/#model-evaluation-panel-sub-new)\n",
    "\n",
    "* Read the documentation about [enabling and disabling plugins](https://beta-docs.voxel51.com/plugins/using_plugins/#enabling-and-disabling-plugins)\n",
    "\n",
    "* Read the documentation about [getting detailed informaton about a plugin](https://beta-docs.voxel51.com/plugins/using_plugins/#getting-plugin-info)\n",
    "\n",
    "* Read the documentation for [deleting plugins](https://beta-docs.voxel51.com/plugins/using_plugins/#deleting-plugins)\n",
    "\n",
    "* Read the documentation for [configuring plugins and plugin secrets](https://beta-docs.voxel51.com/plugins/using_plugins/#configuring-plugins)"
   ]
  }
 ],
 "metadata": {
  "kernelspec": {
   "display_name": "fiftyone",
   "language": "python",
   "name": "python3"
  },
  "language_info": {
   "codemirror_mode": {
    "name": "ipython",
    "version": 3
   },
   "file_extension": ".py",
   "mimetype": "text/x-python",
   "name": "python",
   "nbconvert_exporter": "python",
   "pygments_lexer": "ipython3",
   "version": "3.11.0"
  }
 },
 "nbformat": 4,
 "nbformat_minor": 2
}
